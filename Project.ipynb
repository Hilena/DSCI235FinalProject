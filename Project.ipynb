{
 "cells": [
  {
   "cell_type": "code",
   "execution_count": 1,
   "id": "330caf81",
   "metadata": {},
   "outputs": [
    {
     "name": "stderr",
     "output_type": "stream",
     "text": [
      "/Users/hilinasisay/opt/anaconda3/lib/python3.9/site-packages/scipy/__init__.py:146: UserWarning: A NumPy version >=1.16.5 and <1.23.0 is required for this version of SciPy (detected version 1.24.2\n",
      "  warnings.warn(f\"A NumPy version >={np_minversion} and <{np_maxversion}\"\n"
     ]
    }
   ],
   "source": [
    "#import libraries\n",
    "import pandas as pd\n",
    "import numpy as np\n",
    "import matplotlib.pyplot as plt\n",
    "\n",
    "import seaborn as sns"
   ]
  },
  {
   "cell_type": "code",
   "execution_count": 2,
   "id": "4e4851a2",
   "metadata": {},
   "outputs": [
    {
     "data": {
      "text/html": [
       "<div>\n",
       "<style scoped>\n",
       "    .dataframe tbody tr th:only-of-type {\n",
       "        vertical-align: middle;\n",
       "    }\n",
       "\n",
       "    .dataframe tbody tr th {\n",
       "        vertical-align: top;\n",
       "    }\n",
       "\n",
       "    .dataframe thead th {\n",
       "        text-align: right;\n",
       "    }\n",
       "</style>\n",
       "<table border=\"1\" class=\"dataframe\">\n",
       "  <thead>\n",
       "    <tr style=\"text-align: right;\">\n",
       "      <th></th>\n",
       "      <th>id</th>\n",
       "      <th>name</th>\n",
       "      <th>host_id</th>\n",
       "      <th>host_name</th>\n",
       "      <th>neighbourhood_group</th>\n",
       "      <th>neighbourhood</th>\n",
       "      <th>latitude</th>\n",
       "      <th>longitude</th>\n",
       "      <th>room_type</th>\n",
       "      <th>price</th>\n",
       "      <th>minimum_nights</th>\n",
       "      <th>number_of_reviews</th>\n",
       "      <th>last_review</th>\n",
       "      <th>reviews_per_month</th>\n",
       "      <th>calculated_host_listings_count</th>\n",
       "      <th>availability_365</th>\n",
       "    </tr>\n",
       "  </thead>\n",
       "  <tbody>\n",
       "    <tr>\n",
       "      <th>0</th>\n",
       "      <td>2539</td>\n",
       "      <td>Clean &amp; quiet apt home by the park</td>\n",
       "      <td>2787</td>\n",
       "      <td>John</td>\n",
       "      <td>Brooklyn</td>\n",
       "      <td>Kensington</td>\n",
       "      <td>40.64749</td>\n",
       "      <td>-73.97237</td>\n",
       "      <td>Private room</td>\n",
       "      <td>149</td>\n",
       "      <td>1</td>\n",
       "      <td>9</td>\n",
       "      <td>2018-10-19</td>\n",
       "      <td>0.21</td>\n",
       "      <td>6</td>\n",
       "      <td>365</td>\n",
       "    </tr>\n",
       "    <tr>\n",
       "      <th>1</th>\n",
       "      <td>2595</td>\n",
       "      <td>Skylit Midtown Castle</td>\n",
       "      <td>2845</td>\n",
       "      <td>Jennifer</td>\n",
       "      <td>Manhattan</td>\n",
       "      <td>Midtown</td>\n",
       "      <td>40.75362</td>\n",
       "      <td>-73.98377</td>\n",
       "      <td>Entire home/apt</td>\n",
       "      <td>225</td>\n",
       "      <td>1</td>\n",
       "      <td>45</td>\n",
       "      <td>2019-05-21</td>\n",
       "      <td>0.38</td>\n",
       "      <td>2</td>\n",
       "      <td>355</td>\n",
       "    </tr>\n",
       "    <tr>\n",
       "      <th>2</th>\n",
       "      <td>3647</td>\n",
       "      <td>THE VILLAGE OF HARLEM....NEW YORK !</td>\n",
       "      <td>4632</td>\n",
       "      <td>Elisabeth</td>\n",
       "      <td>Manhattan</td>\n",
       "      <td>Harlem</td>\n",
       "      <td>40.80902</td>\n",
       "      <td>-73.94190</td>\n",
       "      <td>Private room</td>\n",
       "      <td>150</td>\n",
       "      <td>3</td>\n",
       "      <td>0</td>\n",
       "      <td>NaN</td>\n",
       "      <td>NaN</td>\n",
       "      <td>1</td>\n",
       "      <td>365</td>\n",
       "    </tr>\n",
       "    <tr>\n",
       "      <th>3</th>\n",
       "      <td>3831</td>\n",
       "      <td>Cozy Entire Floor of Brownstone</td>\n",
       "      <td>4869</td>\n",
       "      <td>LisaRoxanne</td>\n",
       "      <td>Brooklyn</td>\n",
       "      <td>Clinton Hill</td>\n",
       "      <td>40.68514</td>\n",
       "      <td>-73.95976</td>\n",
       "      <td>Entire home/apt</td>\n",
       "      <td>89</td>\n",
       "      <td>1</td>\n",
       "      <td>270</td>\n",
       "      <td>2019-07-05</td>\n",
       "      <td>4.64</td>\n",
       "      <td>1</td>\n",
       "      <td>194</td>\n",
       "    </tr>\n",
       "    <tr>\n",
       "      <th>4</th>\n",
       "      <td>5022</td>\n",
       "      <td>Entire Apt: Spacious Studio/Loft by central park</td>\n",
       "      <td>7192</td>\n",
       "      <td>Laura</td>\n",
       "      <td>Manhattan</td>\n",
       "      <td>East Harlem</td>\n",
       "      <td>40.79851</td>\n",
       "      <td>-73.94399</td>\n",
       "      <td>Entire home/apt</td>\n",
       "      <td>80</td>\n",
       "      <td>10</td>\n",
       "      <td>9</td>\n",
       "      <td>2018-11-19</td>\n",
       "      <td>0.10</td>\n",
       "      <td>1</td>\n",
       "      <td>0</td>\n",
       "    </tr>\n",
       "  </tbody>\n",
       "</table>\n",
       "</div>"
      ],
      "text/plain": [
       "     id                                              name  host_id  \\\n",
       "0  2539                Clean & quiet apt home by the park     2787   \n",
       "1  2595                             Skylit Midtown Castle     2845   \n",
       "2  3647               THE VILLAGE OF HARLEM....NEW YORK !     4632   \n",
       "3  3831                   Cozy Entire Floor of Brownstone     4869   \n",
       "4  5022  Entire Apt: Spacious Studio/Loft by central park     7192   \n",
       "\n",
       "     host_name neighbourhood_group neighbourhood  latitude  longitude  \\\n",
       "0         John            Brooklyn    Kensington  40.64749  -73.97237   \n",
       "1     Jennifer           Manhattan       Midtown  40.75362  -73.98377   \n",
       "2    Elisabeth           Manhattan        Harlem  40.80902  -73.94190   \n",
       "3  LisaRoxanne            Brooklyn  Clinton Hill  40.68514  -73.95976   \n",
       "4        Laura           Manhattan   East Harlem  40.79851  -73.94399   \n",
       "\n",
       "         room_type  price  minimum_nights  number_of_reviews last_review  \\\n",
       "0     Private room    149               1                  9  2018-10-19   \n",
       "1  Entire home/apt    225               1                 45  2019-05-21   \n",
       "2     Private room    150               3                  0         NaN   \n",
       "3  Entire home/apt     89               1                270  2019-07-05   \n",
       "4  Entire home/apt     80              10                  9  2018-11-19   \n",
       "\n",
       "   reviews_per_month  calculated_host_listings_count  availability_365  \n",
       "0               0.21                               6               365  \n",
       "1               0.38                               2               355  \n",
       "2                NaN                               1               365  \n",
       "3               4.64                               1               194  \n",
       "4               0.10                               1                 0  "
      ]
     },
     "execution_count": 2,
     "metadata": {},
     "output_type": "execute_result"
    }
   ],
   "source": [
    "#Upload dataset\n",
    "newyork_airbnb = pd.read_csv('AB_NYC_2019.csv.zip')\n",
    "newyork_airbnb.head()"
   ]
  },
  {
   "cell_type": "markdown",
   "id": "ec1a8597",
   "metadata": {},
   "source": [
    "### Clean the Data"
   ]
  },
  {
   "cell_type": "code",
   "execution_count": 3,
   "id": "7e2fdea7",
   "metadata": {},
   "outputs": [
    {
     "name": "stdout",
     "output_type": "stream",
     "text": [
      "<class 'pandas.core.frame.DataFrame'>\n",
      "RangeIndex: 48895 entries, 0 to 48894\n",
      "Data columns (total 16 columns):\n",
      " #   Column                          Non-Null Count  Dtype  \n",
      "---  ------                          --------------  -----  \n",
      " 0   id                              48895 non-null  int64  \n",
      " 1   name                            48879 non-null  object \n",
      " 2   host_id                         48895 non-null  int64  \n",
      " 3   host_name                       48874 non-null  object \n",
      " 4   neighbourhood_group             48895 non-null  object \n",
      " 5   neighbourhood                   48895 non-null  object \n",
      " 6   latitude                        48895 non-null  float64\n",
      " 7   longitude                       48895 non-null  float64\n",
      " 8   room_type                       48895 non-null  object \n",
      " 9   price                           48895 non-null  int64  \n",
      " 10  minimum_nights                  48895 non-null  int64  \n",
      " 11  number_of_reviews               48895 non-null  int64  \n",
      " 12  last_review                     38843 non-null  object \n",
      " 13  reviews_per_month               38843 non-null  float64\n",
      " 14  calculated_host_listings_count  48895 non-null  int64  \n",
      " 15  availability_365                48895 non-null  int64  \n",
      "dtypes: float64(3), int64(7), object(6)\n",
      "memory usage: 6.0+ MB\n"
     ]
    }
   ],
   "source": [
    "newyork_airbnb.info()"
   ]
  },
  {
   "cell_type": "code",
   "execution_count": 4,
   "id": "0decd3ad",
   "metadata": {},
   "outputs": [],
   "source": [
    "newyork_airbnb['last_review'] = pd.to_datetime(newyork_airbnb['last_review'])"
   ]
  },
  {
   "cell_type": "code",
   "execution_count": 5,
   "id": "b4586f06",
   "metadata": {},
   "outputs": [],
   "source": [
    "newyork_airbnb['neighbourhood'] = newyork_airbnb['neighbourhood'].astype('category')\n",
    "newyork_airbnb['room_type'] = newyork_airbnb['room_type'].astype('category')"
   ]
  },
  {
   "cell_type": "code",
   "execution_count": 6,
   "id": "825103da",
   "metadata": {},
   "outputs": [
    {
     "name": "stdout",
     "output_type": "stream",
     "text": [
      "<class 'pandas.core.frame.DataFrame'>\n",
      "RangeIndex: 48895 entries, 0 to 48894\n",
      "Data columns (total 16 columns):\n",
      " #   Column                          Non-Null Count  Dtype         \n",
      "---  ------                          --------------  -----         \n",
      " 0   id                              48895 non-null  int64         \n",
      " 1   name                            48879 non-null  object        \n",
      " 2   host_id                         48895 non-null  int64         \n",
      " 3   host_name                       48874 non-null  object        \n",
      " 4   neighbourhood_group             48895 non-null  object        \n",
      " 5   neighbourhood                   48895 non-null  category      \n",
      " 6   latitude                        48895 non-null  float64       \n",
      " 7   longitude                       48895 non-null  float64       \n",
      " 8   room_type                       48895 non-null  category      \n",
      " 9   price                           48895 non-null  int64         \n",
      " 10  minimum_nights                  48895 non-null  int64         \n",
      " 11  number_of_reviews               48895 non-null  int64         \n",
      " 12  last_review                     38843 non-null  datetime64[ns]\n",
      " 13  reviews_per_month               38843 non-null  float64       \n",
      " 14  calculated_host_listings_count  48895 non-null  int64         \n",
      " 15  availability_365                48895 non-null  int64         \n",
      "dtypes: category(2), datetime64[ns](1), float64(3), int64(7), object(3)\n",
      "memory usage: 5.4+ MB\n"
     ]
    }
   ],
   "source": [
    "newyork_airbnb.info()"
   ]
  },
  {
   "cell_type": "code",
   "execution_count": 7,
   "id": "84dd1b01",
   "metadata": {},
   "outputs": [
    {
     "name": "stdout",
     "output_type": "stream",
     "text": [
      "id                                         int64\n",
      "name                                      object\n",
      "host_id                                    int64\n",
      "host_name                                 object\n",
      "neighbourhood_group                       object\n",
      "neighbourhood                           category\n",
      "latitude                                 float64\n",
      "longitude                                float64\n",
      "room_type                               category\n",
      "price                                      int64\n",
      "minimum_nights                             int64\n",
      "number_of_reviews                          int64\n",
      "last_review                       datetime64[ns]\n",
      "reviews_per_month                        float64\n",
      "calculated_host_listings_count             int64\n",
      "availability_365                           int64\n",
      "dtype: object\n"
     ]
    }
   ],
   "source": [
    "print(newyork_airbnb.dtypes)"
   ]
  },
  {
   "cell_type": "code",
   "execution_count": 8,
   "id": "b8495beb",
   "metadata": {},
   "outputs": [
    {
     "data": {
      "text/plain": [
       "0"
      ]
     },
     "execution_count": 8,
     "metadata": {},
     "output_type": "execute_result"
    }
   ],
   "source": [
    "newyork_airbnb.duplicated().sum() #check for duplicates"
   ]
  },
  {
   "cell_type": "code",
   "execution_count": 9,
   "id": "d31b83e6",
   "metadata": {},
   "outputs": [
    {
     "data": {
      "text/plain": [
       "id                                    0\n",
       "name                                 16\n",
       "host_id                               0\n",
       "host_name                            21\n",
       "neighbourhood_group                   0\n",
       "neighbourhood                         0\n",
       "latitude                              0\n",
       "longitude                             0\n",
       "room_type                             0\n",
       "price                                 0\n",
       "minimum_nights                        0\n",
       "number_of_reviews                     0\n",
       "last_review                       10052\n",
       "reviews_per_month                 10052\n",
       "calculated_host_listings_count        0\n",
       "availability_365                      0\n",
       "dtype: int64"
      ]
     },
     "execution_count": 9,
     "metadata": {},
     "output_type": "execute_result"
    }
   ],
   "source": [
    "newyork_airbnb.isnull().sum() #check for any null values"
   ]
  },
  {
   "cell_type": "code",
   "execution_count": 10,
   "id": "1387c460",
   "metadata": {},
   "outputs": [],
   "source": [
    "newyork_airbnb.drop(['id'], axis=1, inplace=True)"
   ]
  },
  {
   "cell_type": "code",
   "execution_count": 11,
   "id": "edce976e",
   "metadata": {},
   "outputs": [],
   "source": [
    "newyork_airbnb.fillna({'host_name': 'N/A'}, inplace=True)"
   ]
  },
  {
   "cell_type": "code",
   "execution_count": 12,
   "id": "22d77f54",
   "metadata": {},
   "outputs": [],
   "source": [
    "newyork_airbnb.fillna({'name': 'N/A'}, inplace=True)"
   ]
  },
  {
   "cell_type": "code",
   "execution_count": 13,
   "id": "66849928",
   "metadata": {},
   "outputs": [],
   "source": [
    "newyork_airbnb.fillna({'reviews_per_month': 0}, inplace=True)"
   ]
  },
  {
   "cell_type": "code",
   "execution_count": 14,
   "id": "bdaa6116",
   "metadata": {},
   "outputs": [
    {
     "name": "stdout",
     "output_type": "stream",
     "text": [
      "Index(['name', 'host_id', 'host_name', 'neighbourhood_group', 'neighbourhood',\n",
      "       'latitude', 'longitude', 'room_type', 'price', 'minimum_nights',\n",
      "       'number_of_reviews', 'last_review', 'reviews_per_month',\n",
      "       'calculated_host_listings_count', 'availability_365'],\n",
      "      dtype='object')\n"
     ]
    }
   ],
   "source": [
    "print(newyork_airbnb.columns)"
   ]
  },
  {
   "cell_type": "code",
   "execution_count": 15,
   "id": "d6edbcf6",
   "metadata": {},
   "outputs": [
    {
     "data": {
      "text/plain": [
       "name                                  0\n",
       "host_id                               0\n",
       "host_name                             0\n",
       "neighbourhood_group                   0\n",
       "neighbourhood                         0\n",
       "latitude                              0\n",
       "longitude                             0\n",
       "room_type                             0\n",
       "price                                 0\n",
       "minimum_nights                        0\n",
       "number_of_reviews                     0\n",
       "last_review                       10052\n",
       "reviews_per_month                     0\n",
       "calculated_host_listings_count        0\n",
       "availability_365                      0\n",
       "dtype: int64"
      ]
     },
     "execution_count": 15,
     "metadata": {},
     "output_type": "execute_result"
    }
   ],
   "source": [
    "newyork_airbnb.isnull().sum() #check for null values one more time"
   ]
  },
  {
   "cell_type": "markdown",
   "id": "3192517a",
   "metadata": {},
   "source": [
    "## What can we learn about different hosts and areas?"
   ]
  },
  {
   "cell_type": "markdown",
   "id": "643a214c",
   "metadata": {},
   "source": [
    "### Top 10 Most Active Hosts"
   ]
  },
  {
   "cell_type": "code",
   "execution_count": 16,
   "id": "fd59006c",
   "metadata": {},
   "outputs": [
    {
     "data": {
      "text/html": [
       "<div>\n",
       "<style scoped>\n",
       "    .dataframe tbody tr th:only-of-type {\n",
       "        vertical-align: middle;\n",
       "    }\n",
       "\n",
       "    .dataframe tbody tr th {\n",
       "        vertical-align: top;\n",
       "    }\n",
       "\n",
       "    .dataframe thead th {\n",
       "        text-align: right;\n",
       "    }\n",
       "</style>\n",
       "<table border=\"1\" class=\"dataframe\">\n",
       "  <thead>\n",
       "    <tr style=\"text-align: right;\">\n",
       "      <th></th>\n",
       "      <th>host_id</th>\n",
       "      <th>num_listings</th>\n",
       "    </tr>\n",
       "  </thead>\n",
       "  <tbody>\n",
       "    <tr>\n",
       "      <th>34646</th>\n",
       "      <td>219517861</td>\n",
       "      <td>327</td>\n",
       "    </tr>\n",
       "    <tr>\n",
       "      <th>29407</th>\n",
       "      <td>107434423</td>\n",
       "      <td>232</td>\n",
       "    </tr>\n",
       "    <tr>\n",
       "      <th>19574</th>\n",
       "      <td>30283594</td>\n",
       "      <td>121</td>\n",
       "    </tr>\n",
       "    <tr>\n",
       "      <th>31079</th>\n",
       "      <td>137358866</td>\n",
       "      <td>103</td>\n",
       "    </tr>\n",
       "    <tr>\n",
       "      <th>14436</th>\n",
       "      <td>16098958</td>\n",
       "      <td>96</td>\n",
       "    </tr>\n",
       "    <tr>\n",
       "      <th>12806</th>\n",
       "      <td>12243051</td>\n",
       "      <td>96</td>\n",
       "    </tr>\n",
       "    <tr>\n",
       "      <th>25662</th>\n",
       "      <td>61391963</td>\n",
       "      <td>91</td>\n",
       "    </tr>\n",
       "    <tr>\n",
       "      <th>17091</th>\n",
       "      <td>22541573</td>\n",
       "      <td>87</td>\n",
       "    </tr>\n",
       "    <tr>\n",
       "      <th>33868</th>\n",
       "      <td>200380610</td>\n",
       "      <td>65</td>\n",
       "    </tr>\n",
       "    <tr>\n",
       "      <th>3044</th>\n",
       "      <td>1475015</td>\n",
       "      <td>52</td>\n",
       "    </tr>\n",
       "  </tbody>\n",
       "</table>\n",
       "</div>"
      ],
      "text/plain": [
       "         host_id  num_listings\n",
       "34646  219517861           327\n",
       "29407  107434423           232\n",
       "19574   30283594           121\n",
       "31079  137358866           103\n",
       "14436   16098958            96\n",
       "12806   12243051            96\n",
       "25662   61391963            91\n",
       "17091   22541573            87\n",
       "33868  200380610            65\n",
       "3044     1475015            52"
      ]
     },
     "execution_count": 16,
     "metadata": {},
     "output_type": "execute_result"
    }
   ],
   "source": [
    "grouped_data = newyork_airbnb.groupby('host_id')\n",
    "num_listings = grouped_data.size().reset_index(name='num_listings')\n",
    "sorted_hosts = num_listings.sort_values('num_listings', ascending=False) #in descending order\n",
    "top_hosts = sorted_hosts.head(15)\n",
    "top_hosts.head(10)"
   ]
  },
  {
   "cell_type": "code",
   "execution_count": 17,
   "id": "137bbb07",
   "metadata": {},
   "outputs": [
    {
     "data": {
      "text/html": [
       "<div>\n",
       "<style scoped>\n",
       "    .dataframe tbody tr th:only-of-type {\n",
       "        vertical-align: middle;\n",
       "    }\n",
       "\n",
       "    .dataframe tbody tr th {\n",
       "        vertical-align: top;\n",
       "    }\n",
       "\n",
       "    .dataframe thead th {\n",
       "        text-align: right;\n",
       "    }\n",
       "</style>\n",
       "<table border=\"1\" class=\"dataframe\">\n",
       "  <thead>\n",
       "    <tr style=\"text-align: right;\">\n",
       "      <th></th>\n",
       "      <th>host_name</th>\n",
       "      <th>num_listings</th>\n",
       "    </tr>\n",
       "  </thead>\n",
       "  <tbody>\n",
       "    <tr>\n",
       "      <th>0</th>\n",
       "      <td>Sonder (NYC)</td>\n",
       "      <td>327</td>\n",
       "    </tr>\n",
       "    <tr>\n",
       "      <th>1</th>\n",
       "      <td>Blueground</td>\n",
       "      <td>232</td>\n",
       "    </tr>\n",
       "    <tr>\n",
       "      <th>2</th>\n",
       "      <td>Kara</td>\n",
       "      <td>121</td>\n",
       "    </tr>\n",
       "    <tr>\n",
       "      <th>3</th>\n",
       "      <td>Kazuya</td>\n",
       "      <td>103</td>\n",
       "    </tr>\n",
       "    <tr>\n",
       "      <th>4</th>\n",
       "      <td>Jeremy &amp; Laura</td>\n",
       "      <td>96</td>\n",
       "    </tr>\n",
       "    <tr>\n",
       "      <th>5</th>\n",
       "      <td>Sonder</td>\n",
       "      <td>96</td>\n",
       "    </tr>\n",
       "    <tr>\n",
       "      <th>6</th>\n",
       "      <td>Corporate Housing</td>\n",
       "      <td>91</td>\n",
       "    </tr>\n",
       "    <tr>\n",
       "      <th>7</th>\n",
       "      <td>Ken</td>\n",
       "      <td>87</td>\n",
       "    </tr>\n",
       "    <tr>\n",
       "      <th>8</th>\n",
       "      <td>Pranjal</td>\n",
       "      <td>65</td>\n",
       "    </tr>\n",
       "    <tr>\n",
       "      <th>9</th>\n",
       "      <td>Mike</td>\n",
       "      <td>52</td>\n",
       "    </tr>\n",
       "  </tbody>\n",
       "</table>\n",
       "</div>"
      ],
      "text/plain": [
       "           host_name  num_listings\n",
       "0       Sonder (NYC)           327\n",
       "1         Blueground           232\n",
       "2               Kara           121\n",
       "3             Kazuya           103\n",
       "4     Jeremy & Laura            96\n",
       "5             Sonder            96\n",
       "6  Corporate Housing            91\n",
       "7                Ken            87\n",
       "8            Pranjal            65\n",
       "9               Mike            52"
      ]
     },
     "execution_count": 17,
     "metadata": {},
     "output_type": "execute_result"
    }
   ],
   "source": [
    "#Get the host names\n",
    "host_names = newyork_airbnb[['host_id', 'host_name']].drop_duplicates('host_id')\n",
    "#Merge with the top hosts Data to get the host names\n",
    "top_hosts_info = pd.merge(top_hosts, host_names, on='host_id')\n",
    "#top hosts with their names\n",
    "top_hosts_info[['host_name', 'num_listings']].head(10)"
   ]
  },
  {
   "cell_type": "markdown",
   "id": "bdb88bc3",
   "metadata": {},
   "source": [
    "### Hosts Who Charge The Highest and Lowest Prices on Average"
   ]
  },
  {
   "cell_type": "code",
   "execution_count": 18,
   "id": "bafa5fc0",
   "metadata": {},
   "outputs": [
    {
     "name": "stdout",
     "output_type": "stream",
     "text": [
      "    host_id host_name neighbourhood_group    price\n",
      "0  72390391    Jelena           Manhattan  10000.0\n",
      "1  20582832  Kathrine              Queens  10000.0\n",
      "2   5143901      Erin            Brooklyn  10000.0\n",
      "3   4382127      Matt           Manhattan   9999.0\n",
      "4   3906464       Amy           Manhattan   9999.0\n",
      "5   1235070     Olson           Manhattan   9999.0\n",
      "6  18128455       Rum           Manhattan   8500.0\n",
      "7   7407743      Jack           Manhattan   7500.0\n",
      "8  35303743  Patricia           Manhattan   6500.0\n",
      "9  11598359  Jonathan            Brooklyn   6500.0\n"
     ]
    }
   ],
   "source": [
    "#Group the data by the 'host_id' column and calculate the mean of the 'price' column\n",
    "host_avg_price = newyork_airbnb.groupby('host_id')['price'].mean().reset_index()\n",
    "#Merge the host_avg_price DataFrame with the newyork_airbnb DataFrame on the 'host_id' column\n",
    "top10_host_avg_price = host_avg_price.sort_values('price', ascending=False).head(10)\n",
    "top10_hosts = pd.merge(top10_host_avg_price, newyork_airbnb[['host_id', 'host_name', 'neighbourhood_group']], on='host_id')\n",
    "#Top 10 hosts with the highest average price and their names\n",
    "print(top10_hosts[['host_id', 'host_name', 'neighbourhood_group', 'price']]) "
   ]
  },
  {
   "cell_type": "markdown",
   "id": "ab7c4a4b",
   "metadata": {},
   "source": [
    "### Distribution of Host Listings by Neighborhood"
   ]
  },
  {
   "cell_type": "code",
   "execution_count": 19,
   "id": "f4c1b85d",
   "metadata": {},
   "outputs": [
    {
     "data": {
      "image/png": "[encoded data removed]",
      "text/plain": [
       "<Figure size 576x432 with 1 Axes>"
      ]
     },
     "metadata": {
      "needs_background": "light"
     },
     "output_type": "display_data"
    }
   ],
   "source": [
    "# Group the data by the 'neighbourhood_group' and 'host_id' columns and count the number of listings for each neighborhood and host\n",
    "listings_by_neighborhood = newyork_airbnb.groupby(['neighbourhood_group', 'host_id']).size().reset_index(name='num_listings')\n",
    "\n",
    "# Group the data by the 'neighbourhood_group' column and count the number of hosts for each neighborhood\n",
    "hosts_by_neighborhood = listings_by_neighborhood.groupby('neighbourhood_group')['host_id'].nunique().reset_index(name='num_hosts')\n",
    "\n",
    "# Create a bar chart showing the number of hosts per neighborhood\n",
    "plt.figure(figsize=(8,6))\n",
    "plt.bar(hosts_by_neighborhood['neighbourhood_group'], hosts_by_neighborhood['num_hosts'])\n",
    "plt.title('Number of Hosts by Neighborhood')\n",
    "plt.xlabel('Neighborhood')\n",
    "plt.ylabel('Number of Hosts')\n",
    "plt.show()\n"
   ]
  },
  {
   "cell_type": "code",
   "execution_count": 20,
   "id": "10ba6f83",
   "metadata": {},
   "outputs": [
    {
     "name": "stdout",
     "output_type": "stream",
     "text": [
      "  neighbourhood_group   avg_price\n",
      "2           Manhattan  196.875814\n",
      "1            Brooklyn  124.383207\n",
      "4       Staten Island  114.812332\n",
      "3              Queens   99.517649\n",
      "0               Bronx   87.496792\n"
     ]
    }
   ],
   "source": [
    "# Calculate the average price by neighborhood\n",
    "avg_price_by_neighborhood = newyork_airbnb.groupby('neighbourhood_group')['price'].mean().reset_index(name='avg_price')\n",
    "\n",
    "# Sort the results in descending order by average price\n",
    "sorted_neighborhoods = avg_price_by_neighborhood.sort_values('avg_price', ascending=False)\n",
    "\n",
    "# Print the top 5 neighborhoods by average price\n",
    "print(sorted_neighborhoods.head(10))"
   ]
  },
  {
   "cell_type": "code",
   "execution_count": 21,
   "id": "dab76b40",
   "metadata": {},
   "outputs": [
    {
     "name": "stdout",
     "output_type": "stream",
     "text": [
      "         room_type  count\n",
      "0  Entire home/apt  25409\n",
      "1     Private room  22326\n",
      "2      Shared room   1160\n"
     ]
    }
   ],
   "source": [
    "# Group the data by room type\n",
    "room_type_counts = newyork_airbnb.groupby('room_type').size().reset_index(name='count')\n",
    "\n",
    "# Sort the data by count in descending order\n",
    "sorted_counts = room_type_counts.sort_values('count', ascending=False)\n",
    "\n",
    "# top 5 most common room types\n",
    "sorted_counts.head()"
   ]
  },
  {
   "cell_type": "markdown",
   "id": "66fc1332",
   "metadata": {},
   "source": [
    "### Most common types of listings in each neighborhood"
   ]
  },
  {
   "cell_type": "code",
   "execution_count": 22,
   "id": "4700d825",
   "metadata": {},
   "outputs": [
    {
     "name": "stdout",
     "output_type": "stream",
     "text": [
      "   neighbourhood_group        room_type  count\n",
      "0                Bronx  Entire home/apt    379\n",
      "1                Bronx     Private room    652\n",
      "2                Bronx      Shared room     60\n",
      "3             Brooklyn  Entire home/apt   9559\n",
      "4             Brooklyn     Private room  10132\n",
      "5             Brooklyn      Shared room    413\n",
      "6            Manhattan  Entire home/apt  13199\n",
      "7            Manhattan     Private room   7982\n",
      "8            Manhattan      Shared room    480\n",
      "9               Queens  Entire home/apt   2096\n",
      "10              Queens     Private room   3372\n",
      "11              Queens      Shared room    198\n",
      "12       Staten Island  Entire home/apt    176\n",
      "13       Staten Island     Private room    188\n",
      "14       Staten Island      Shared room      9\n"
     ]
    }
   ],
   "source": [
    "listings_by_neighborhood_roomtype = newyork_airbnb.groupby(['neighbourhood_group', 'room_type']).size().reset_index(name='count')\n",
    "print(listings_by_neighborhood_roomtype)\n",
    "\n",
    "#This is a dataframe where each row represents a combination of neighborhood group and room type, and \n",
    "#the count column shows the number of listings in that group."
   ]
  },
  {
   "cell_type": "code",
   "execution_count": 23,
   "id": "6d3a0151",
   "metadata": {},
   "outputs": [
    {
     "data": {
      "image/png": "[encoded data removed]",
      "text/plain": [
       "<Figure size 764.25x432 with 1 Axes>"
      ]
     },
     "metadata": {
      "needs_background": "light"
     },
     "output_type": "display_data"
    }
   ],
   "source": [
    "# group the data by neighborhood and room type, then count the number of listings in each group\n",
    "grouped_data = newyork_airbnb.groupby(['neighbourhood_group', 'room_type']).size().reset_index(name='count')\n",
    "\n",
    "# calculate the total number of listings in each neighborhood\n",
    "total_listings = grouped_data.groupby('neighbourhood_group').sum().reset_index()\n",
    "\n",
    "# calculate the proportion of each type of listing in each neighborhood\n",
    "grouped_data['proportion'] = grouped_data['count'] / grouped_data.merge(total_listings, on='neighbourhood_group')['count_y']\n",
    "\n",
    "# create a grouped bar chart\n",
    "\n",
    "sns.catplot(x='neighbourhood_group', y='proportion', hue='room_type', data=grouped_data, kind='bar', height=6, aspect=1.5)\n",
    "plt.title('Proportion of Each Type of Listing in Each Neighborhood')\n",
    "plt.xlabel('Neighborhood')\n",
    "plt.ylabel('Proportion')\n",
    "plt.show()"
   ]
  },
  {
   "cell_type": "code",
   "execution_count": 24,
   "id": "ed601dd6",
   "metadata": {},
   "outputs": [
    {
     "data": {
      "image/png": "[encoded data removed]",
      "text/plain": [
       "<Figure size 432x288 with 1 Axes>"
      ]
     },
     "metadata": {
      "needs_background": "light"
     },
     "output_type": "display_data"
    }
   ],
   "source": [
    "# create a scatter plot of price vs. number of reviews, color-coded by room type\n",
    "sns.scatterplot(data=newyork_airbnb, x='number_of_reviews', y='price', hue='room_type')\n",
    "\n",
    "# add labels and title\n",
    "plt.xlabel('Number of Reviews')\n",
    "plt.ylabel('Price')\n",
    "plt.title('Price vs. Popularity by Room Type')\n",
    "\n",
    "# show the plot\n",
    "plt.show()\n",
    "\n"
   ]
  },
  {
   "cell_type": "code",
   "execution_count": 25,
   "id": "8ea1c3ec",
   "metadata": {},
   "outputs": [
    {
     "data": {
      "image/png": "[encoded data removed]",
      "text/plain": [
       "<Figure size 432x288 with 1 Axes>"
      ]
     },
     "metadata": {
      "needs_background": "light"
     },
     "output_type": "display_data"
    }
   ],
   "source": [
    "\n",
    "sns.scatterplot(x='price', y='neighbourhood_group', hue='room_type', data=newyork_airbnb, alpha=0.9)\n",
    "plt.title('Prices of Different Types of Listings by Neighborhood')\n",
    "plt.xlabel('Price')\n",
    "plt.ylabel('Neighborhood')\n",
    "plt.show()"
   ]
  },
  {
   "cell_type": "code",
   "execution_count": 32,
   "id": "dd73dc84",
   "metadata": {},
   "outputs": [
    {
     "data": {
      "text/plain": [
       "month\n",
       "1.0      63.479986\n",
       "2.0      82.189610\n",
       "3.0      90.302795\n",
       "4.0      97.717402\n",
       "5.0     130.922782\n",
       "6.0     147.325999\n",
       "7.0     130.139633\n",
       "8.0      52.067187\n",
       "9.0      67.723127\n",
       "10.0     85.016818\n",
       "11.0     61.050950\n",
       "12.0     66.485876\n",
       "Name: availability_365, dtype: float64"
      ]
     },
     "execution_count": 32,
     "metadata": {},
     "output_type": "execute_result"
    }
   ],
   "source": [
    "# create a new column 'month' by extracting the month from the 'last_review' column\n",
    "newyork_airbnb['month'] = newyork_airbnb['last_review'].dt.month\n",
    "\n",
    "# group the data by 'month' and calculate the average availability for each month using the 'availability_365' column\n",
    "availability_by_month = newyork_airbnb.groupby('month')['availability_365'].mean()\n",
    "\n",
    "availability_by_month.head(12)"
   ]
  },
  {
   "cell_type": "code",
   "execution_count": 35,
   "id": "004c96d6",
   "metadata": {},
   "outputs": [
    {
     "data": {
      "image/png": "[encoded data removed]",
      "text/plain": [
       "<Figure size 432x288 with 1 Axes>"
      ]
     },
     "metadata": {
      "needs_background": "light"
     },
     "output_type": "display_data"
    }
   ],
   "source": [
    "\n",
    "plt.plot(availability_by_month.index, availability_by_month.values)\n",
    "plt.title('Average Availability by Month')\n",
    "plt.xlabel('Month')\n",
    "plt.ylabel('Availability (days)')\n",
    "plt.show()"
   ]
  },
  {
   "cell_type": "code",
   "execution_count": 33,
   "id": "4447589c",
   "metadata": {},
   "outputs": [
    {
     "data": {
      "text/plain": [
       "weekday\n",
       "0.0    108.461474\n",
       "1.0    106.606035\n",
       "2.0    109.569462\n",
       "3.0    115.596511\n",
       "4.0    122.097408\n",
       "5.0    122.150906\n",
       "6.0    118.249947\n",
       "Name: availability_365, dtype: float64"
      ]
     },
     "execution_count": 33,
     "metadata": {},
     "output_type": "execute_result"
    }
   ],
   "source": [
    "# create a new column 'weekday' by extracting the weekday from the 'last_review' column\n",
    "newyork_airbnb['weekday'] = newyork_airbnb['last_review'].dt.weekday\n",
    "\n",
    "# group the data by 'weekday' and calculate the average availability for each weekday using the 'availability_365' column\n",
    "availability_by_weekday = newyork_airbnb.groupby('weekday')['availability_365'].mean()\n",
    "\n",
    "availability_by_weekday.head(7)"
   ]
  },
  {
   "cell_type": "code",
   "execution_count": 36,
   "id": "91fcc644",
   "metadata": {},
   "outputs": [
    {
     "data": {
      "text/plain": [
       "Text(0, 0.5, 'Availability (days)')"
      ]
     },
     "execution_count": 36,
     "metadata": {},
     "output_type": "execute_result"
    },
    {
     "data": {
      "image/png": "[encoded data removed]",
      "text/plain": [
       "<Figure size 432x288 with 1 Axes>"
      ]
     },
     "metadata": {
      "needs_background": "light"
     },
     "output_type": "display_data"
    }
   ],
   "source": [
    "# create a line plot of the average availability by weekday\n",
    "plt.plot(availability_by_weekday.index, availability_by_weekday.values)\n",
    "\n",
    "# set the title and axis labels\n",
    "plt.title('Average Availability by Weekday')\n",
    "plt.xlabel('Weekday')\n",
    "plt.ylabel('Availability (days)')\n"
   ]
  },
  {
   "cell_type": "code",
   "execution_count": 37,
   "id": "3eb18918",
   "metadata": {},
   "outputs": [
    {
     "data": {
      "text/plain": [
       "Text(0, 0.5, 'Availability (days)')"
      ]
     },
     "execution_count": 37,
     "metadata": {},
     "output_type": "execute_result"
    },
    {
     "data": {
      "image/png": "[encoded data removed]",
      "text/plain": [
       "<Figure size 432x288 with 1 Axes>"
      ]
     },
     "metadata": {
      "needs_background": "light"
     },
     "output_type": "display_data"
    }
   ],
   "source": [
    "# create a list of weekday names\n",
    "weekday_names = ['Monday', 'Tuesday', 'Wednesday', 'Thursday', 'Friday', 'Saturday', 'Sunday']\n",
    "\n",
    "# create a line plot of the average availability by weekday\n",
    "plt.plot(availability_by_weekday.index, availability_by_weekday.values)\n",
    "\n",
    "# set the x-axis tick labels to the weekday names\n",
    "plt.xticks(availability_by_weekday.index, weekday_names)\n",
    "\n",
    "# set the title and axis labels\n",
    "plt.title('Average Availability by Weekday')\n",
    "plt.xlabel('Weekday')\n",
    "plt.ylabel('Availability (days)')"
   ]
  }
 ],
 "metadata": {
  "kernelspec": {
   "display_name": "Python 3 (ipykernel)",
   "language": "python",
   "name": "python3"
  },
  "language_info": {
   "codemirror_mode": {
    "name": "ipython",
    "version": 3
   },
   "file_extension": ".py",
   "mimetype": "text/x-python",
   "name": "python",
   "nbconvert_exporter": "python",
   "pygments_lexer": "ipython3",
   "version": "3.9.12"
  }
 },
 "nbformat": 4,
 "nbformat_minor": 5
}
